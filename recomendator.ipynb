{
  "nbformat": 4,
  "nbformat_minor": 0,
  "metadata": {
    "colab": {
      "provenance": []
    },
    "kernelspec": {
      "name": "python3",
      "display_name": "Python 3"
    },
    "language_info": {
      "name": "python"
    }
  },
  "cells": [
    {
      "cell_type": "code",
      "execution_count": null,
      "metadata": {
        "id": "gyFccxdpH6Pe"
      },
      "outputs": [],
      "source": [
        "import numpy as np\n",
        "import pandas as pd\n",
        "import matplotlib.pyplot as plt\n",
        "import seaborn as sns"
      ]
    },
    {
      "cell_type": "markdown",
      "source": [
        "LOAD DATASET"
      ],
      "metadata": {
        "id": "IN6JVN3bR1ya"
      }
    },
    {
      "cell_type": "code",
      "source": [
        "# Load the JSON file into a pandas DataFrame\n",
        "df = pd.read_json(\"modcloth_final_data.json\", lines=True)\n",
        "\n",
        "# Print the first few rows of the DataFrame to verify that it was loaded correctly\n",
        "print(df.head())"
      ],
      "metadata": {
        "colab": {
          "base_uri": "https://localhost:8080/"
        },
        "id": "Zqf-RHg-KBJE",
        "outputId": "b4a581bc-bb38-4ebf-b7f6-b8a4679959f9"
      },
      "execution_count": null,
      "outputs": [
        {
          "output_type": "stream",
          "name": "stdout",
          "text": [
            "   item_id  waist  size  quality cup size  hips  bra size category bust  \\\n",
            "0   123373   29.0     7      5.0        d  38.0      34.0      new   36   \n",
            "1   123373   31.0    13      3.0        b  30.0      36.0      new  NaN   \n",
            "2   123373   30.0     7      2.0        b   NaN      32.0      new  NaN   \n",
            "3   123373    NaN    21      5.0     dd/e   NaN       NaN      new  NaN   \n",
            "4   123373    NaN    18      5.0        b   NaN      36.0      new  NaN   \n",
            "\n",
            "    height         user_name         length    fit  user_id  shoe size  \\\n",
            "0  5ft 6in             Emily     just right  small   991571        NaN   \n",
            "1  5ft 2in  sydneybraden2001     just right  small   587883        NaN   \n",
            "2  5ft 7in             Ugggh  slightly long  small   395665        9.0   \n",
            "3      NaN      alexmeyer626     just right    fit   875643        NaN   \n",
            "4  5ft 2in        dberrones1  slightly long  small   944840        NaN   \n",
            "\n",
            "  shoe width review_summary review_text  \n",
            "0        NaN            NaN         NaN  \n",
            "1        NaN            NaN         NaN  \n",
            "2        NaN            NaN         NaN  \n",
            "3        NaN            NaN         NaN  \n",
            "4        NaN            NaN         NaN  \n"
          ]
        }
      ]
    },
    {
      "cell_type": "markdown",
      "source": [
        "CHARTS "
      ],
      "metadata": {
        "id": "yHAt6yr9R-ep"
      }
    },
    {
      "cell_type": "markdown",
      "source": [
        "Small = 2 \n",
        "Fit = 0\n",
        "Large = 1"
      ],
      "metadata": {
        "id": "D-DQoGXpynxD"
      }
    },
    {
      "cell_type": "code",
      "source": [
        "b=sns.countplot(x = df['fit'])\n",
        "b.set_xlabel(\"fitting size\",fontsize=20,color='black')\n",
        "b.set_ylabel(\"Frecuencia\",fontsize=20,color='black')"
      ],
      "metadata": {
        "colab": {
          "base_uri": "https://localhost:8080/",
          "height": 480
        },
        "id": "NrOT86zqycZG",
        "outputId": "a80b5dba-55c7-49ef-a950-38a38fb3121a"
      },
      "execution_count": null,
      "outputs": [
        {
          "output_type": "execute_result",
          "data": {
            "text/plain": [
              "Text(0, 0.5, 'Frecuencia')"
            ]
          },
          "metadata": {},
          "execution_count": 3
        },
        {
          "output_type": "display_data",
          "data": {
            "text/plain": [
              "<Figure size 640x480 with 1 Axes>"
            ],
            "image/png": "[encoded data removed]"
          },
          "metadata": {}
        }
      ]
    },
    {
      "cell_type": "code",
      "source": [
        "print(df.isnull().sum())\n",
        "print(df.info())"
      ],
      "metadata": {
        "colab": {
          "base_uri": "https://localhost:8080/"
        },
        "id": "hQwLfyz3zs3-",
        "outputId": "d3517de6-71e1-4212-ec4e-e1c5fac5e29c"
      },
      "execution_count": null,
      "outputs": [
        {
          "output_type": "stream",
          "name": "stdout",
          "text": [
            "item_id               0\n",
            "waist             79908\n",
            "size                  0\n",
            "quality              68\n",
            "cup size           6255\n",
            "hips              26726\n",
            "bra size           6018\n",
            "category              0\n",
            "bust              70936\n",
            "height             1107\n",
            "user_name             0\n",
            "length               35\n",
            "fit                   0\n",
            "user_id               0\n",
            "shoe size         54875\n",
            "shoe width        64183\n",
            "review_summary     6725\n",
            "review_text        6725\n",
            "dtype: int64\n",
            "<class 'pandas.core.frame.DataFrame'>\n",
            "RangeIndex: 82790 entries, 0 to 82789\n",
            "Data columns (total 18 columns):\n",
            " #   Column          Non-Null Count  Dtype  \n",
            "---  ------          --------------  -----  \n",
            " 0   item_id         82790 non-null  int64  \n",
            " 1   waist           2882 non-null   float64\n",
            " 2   size            82790 non-null  int64  \n",
            " 3   quality         82722 non-null  float64\n",
            " 4   cup size        76535 non-null  object \n",
            " 5   hips            56064 non-null  float64\n",
            " 6   bra size        76772 non-null  float64\n",
            " 7   category        82790 non-null  object \n",
            " 8   bust            11854 non-null  object \n",
            " 9   height          81683 non-null  object \n",
            " 10  user_name       82790 non-null  object \n",
            " 11  length          82755 non-null  object \n",
            " 12  fit             82790 non-null  object \n",
            " 13  user_id         82790 non-null  int64  \n",
            " 14  shoe size       27915 non-null  float64\n",
            " 15  shoe width      18607 non-null  object \n",
            " 16  review_summary  76065 non-null  object \n",
            " 17  review_text     76065 non-null  object \n",
            "dtypes: float64(5), int64(3), object(10)\n",
            "memory usage: 11.4+ MB\n",
            "None\n"
          ]
        }
      ]
    },
    {
      "cell_type": "code",
      "source": [
        "df.drop(['fit','user_id','shoe size','item_id'], axis=1).plot(kind='box', subplots=True, layout=(2,3), sharex=False, sharey=False, figsize=(12,9), title='Distribution of input variables')\n",
        "plt.savefig('data_box')\n",
        "plt"
      ],
      "metadata": {
        "colab": {
          "base_uri": "https://localhost:8080/",
          "height": 860
        },
        "id": "8YiIyhoyz0OF",
        "outputId": "9ccdd6da-8917-44b5-d18f-599d1bae03cb"
      },
      "execution_count": null,
      "outputs": [
        {
          "output_type": "execute_result",
          "data": {
            "text/plain": [
              "<module 'matplotlib.pyplot' from '/usr/local/lib/python3.10/dist-packages/matplotlib/pyplot.py'>"
            ]
          },
          "metadata": {},
          "execution_count": 5
        },
        {
          "output_type": "display_data",
          "data": {
            "text/plain": [
              "<Figure size 1200x900 with 6 Axes>"
            ],
            "image/png": "[encoded data removed]"
          },
          "metadata": {}
        }
      ]
    },
    {
      "cell_type": "code",
      "source": [
        "import pylab as pl\n",
        "df.drop(['fit','user_id','shoe size','item_id'] ,axis=1).hist(bins=30, figsize=(9,9))\n",
        "pl.suptitle(\"Histogram for each input variable\")\n",
        "plt.savefig('data_hist')\n",
        "plt.show()"
      ],
      "metadata": {
        "colab": {
          "base_uri": "https://localhost:8080/",
          "height": 843
        },
        "id": "SqbIxjc51Tiw",
        "outputId": "fcdb3a27-bded-435f-c2c6-3dee28e92e07"
      },
      "execution_count": null,
      "outputs": [
        {
          "output_type": "display_data",
          "data": {
            "text/plain": [
              "<Figure size 900x900 with 6 Axes>"
            ],
            "image/png": "[encoded data removed]"
          },
          "metadata": {}
        }
      ]
    },
    {
      "cell_type": "markdown",
      "source": [
        "TEXT LABELS TO NUMBER FOR THE INPUTS"
      ],
      "metadata": {
        "id": "h_MdfWmzRWMw"
      }
    },
    {
      "cell_type": "code",
      "source": [
        "#fitting vals to number length (peoples feedback)\n",
        "from sklearn import preprocessing\n",
        "lenle = preprocessing.LabelEncoder()\n",
        "lenle.fit(df['length'])\n",
        "df['lengthToNumber']=lenle.transform(df['length'])\n",
        "print(df['length'].unique())\n",
        "print(df['lengthToNumber'].unique())"
      ],
      "metadata": {
        "id": "l_gCb911WbV7",
        "colab": {
          "base_uri": "https://localhost:8080/"
        },
        "outputId": "9e37322a-e859-457e-d755-1d769445e749"
      },
      "execution_count": null,
      "outputs": [
        {
          "output_type": "stream",
          "name": "stdout",
          "text": [
            "['just right' 'slightly long' 'very short' 'slightly short' 'very long'\n",
            " nan]\n",
            "[0 1 4 2 3 5]\n"
          ]
        }
      ]
    },
    {
      "cell_type": "code",
      "source": [
        "#transform to numbers fit clothing(real size)\n",
        "le = preprocessing.LabelEncoder()\n",
        "le.fit(df['fit'])\n",
        "df['fitToNumber']=le.transform(df['fit'])\n",
        "print('num vals: ',df['fitToNumber'].unique())\n",
        "print('original vals: ',df['fit'].unique())"
      ],
      "metadata": {
        "id": "nn9nXolqmevd",
        "outputId": "f0f7fd3d-7e59-4e8f-9a53-c56ebe853432",
        "colab": {
          "base_uri": "https://localhost:8080/"
        }
      },
      "execution_count": null,
      "outputs": [
        {
          "output_type": "stream",
          "name": "stdout",
          "text": [
            "num vals:  [2 0 1]\n",
            "original vals:  ['small' 'fit' 'large']\n"
          ]
        }
      ]
    },
    {
      "cell_type": "code",
      "source": [
        "#transform to size shoe width to number\n",
        "lecl = preprocessing.LabelEncoder()\n",
        "lecl.fit(df['shoe width'])\n",
        "df['shoeWidthToNumber']=lecl.transform(df['shoe width'])\n",
        "print('num vals: ',df['shoeWidthToNumber'].unique())\n",
        "print('original vals: ',df['shoe width'].unique())"
      ],
      "metadata": {
        "colab": {
          "base_uri": "https://localhost:8080/"
        },
        "id": "BnxAY5zIMtDX",
        "outputId": "1c65732e-4053-4c17-fae6-47025ff20773"
      },
      "execution_count": null,
      "outputs": [
        {
          "output_type": "stream",
          "name": "stdout",
          "text": [
            "num vals:  [3 2 0 1]\n",
            "original vals:  [nan 'wide' 'average' 'narrow']\n"
          ]
        }
      ]
    },
    {
      "cell_type": "code",
      "source": [
        "#transform to size shoe size to number\n",
        "print('original vals: ',df['shoe size'].unique())\n",
        "lenle = preprocessing.LabelEncoder()\n",
        "lenle.fit(df['shoe size'])\n",
        "df['shoesizeToNumber']=lenle.transform(df['shoe size'])\n",
        "print(df['shoe size'].unique())\n",
        "print(df['shoesizeToNumber'].unique())"
      ],
      "metadata": {
        "colab": {
          "base_uri": "https://localhost:8080/"
        },
        "id": "lSN_g0NoNuH6",
        "outputId": "a5b562aa-09e3-4eee-8b0c-070f7ac292a8"
      },
      "execution_count": null,
      "outputs": [
        {
          "output_type": "stream",
          "name": "stdout",
          "text": [
            "original vals:  [ nan  9.   8.5 11.   7.   6.   8.   6.5 10.   7.5  5.5  9.5 10.5  5.\n",
            " 11.5 38. ]\n",
            "[ nan  9.   8.5 11.   7.   6.   8.   6.5 10.   7.5  5.5  9.5 10.5  5.\n",
            " 11.5 38. ]\n",
            "[15  8  7 12  4  2  6  3 10  5  1  9 11  0 13 14]\n"
          ]
        }
      ]
    },
    {
      "cell_type": "code",
      "source": [
        "#transform cup to number\n",
        "lecl = preprocessing.LabelEncoder()\n",
        "lecl.fit(df['height'])\n",
        "df['heightToNum']=lecl.transform(df['height'])\n",
        "print('num vals: ',df['heightToNum'].unique())\n",
        "print('original vals: ',df['height'].unique())"
      ],
      "metadata": {
        "colab": {
          "base_uri": "https://localhost:8080/"
        },
        "id": "iuLbZPYNFoAr",
        "outputId": "4083efb0-e065-4b38-ecd9-3de1d36d0fe7"
      },
      "execution_count": null,
      "outputs": [
        {
          "output_type": "stream",
          "name": "stdout",
          "text": [
            "num vals:  [23 19 24 41 21 20 22 16 25 15 26 18 17  7  6 27  4 14 30 28 29  0 12  9\n",
            " 36  8 33 13 31  1 32 39  5  3 35 38 37 40 34 10  2 11]\n",
            "original vals:  ['5ft 6in' '5ft 2in' '5ft 7in' nan '5ft 4in' '5ft 3in' '5ft 5in'\n",
            " '5ft 10in' '5ft 8in' '5ft' '5ft 9in' '5ft 1in' '5ft 11in' '4ft 11in'\n",
            " '4ft 10in' '6ft' '3ft 4in' '4ft 9in' '6ft 3in' '6ft 1in' '6ft 2in' '3ft'\n",
            " '4ft 7in' '4ft 4in' '7ft 11in' '4ft 2in' '6ft 6in' '4ft 8in' '6ft 4in'\n",
            " '3ft 11in' '6ft 5in' '7ft 6in' '3ft 6in' '3ft 3in' '6ft 8in' '7ft 5in'\n",
            " '7ft 3in' '7ft 7in' '6ft 7in' '4ft 5in' '3ft 2in' '4ft 6in']\n"
          ]
        }
      ]
    },
    {
      "cell_type": "code",
      "source": [
        "#transform cup to number\n",
        "lecl = preprocessing.LabelEncoder()\n",
        "lecl.fit(df['cup size'])\n",
        "df['cupsizeToNum']=lecl.transform(df['cup size'])\n",
        "print('num vals: ',df['cupsizeToNum'].unique())\n",
        "print('original vals: ',df['cup size'].unique())"
      ],
      "metadata": {
        "colab": {
          "base_uri": "https://localhost:8080/"
        },
        "id": "i_kPpui3QKNf",
        "outputId": "34dc80cc-db89-40a4-ae19-44b70068effd"
      },
      "execution_count": null,
      "outputs": [
        {
          "output_type": "stream",
          "name": "stdout",
          "text": [
            "num vals:  [ 4  2  5  3  6  7  9  0 12  8  1 10 11]\n",
            "original vals:  ['d' 'b' 'dd/e' 'c' 'ddd/f' 'dddd/g' 'i' 'a' nan 'h' 'aa' 'j' 'k']\n"
          ]
        }
      ]
    },
    {
      "cell_type": "markdown",
      "source": [
        "DROP UNNECESARY COLUMNS OF THE DATASET"
      ],
      "metadata": {
        "id": "z9zDoooDRhWE"
      }
    },
    {
      "cell_type": "code",
      "source": [
        "#drop unnecesary values \n",
        "df = df.drop(['item_id','quality','category','user_name','review_summary','review_text'\n",
        ",'user_id'], axis=1)\n",
        "print(df)"
      ],
      "metadata": {
        "colab": {
          "base_uri": "https://localhost:8080/"
        },
        "id": "FHHTUidtPKF3",
        "outputId": "563f52d2-0b6c-4bab-d087-32997be9e37c"
      },
      "execution_count": null,
      "outputs": [
        {
          "output_type": "stream",
          "name": "stdout",
          "text": [
            "       waist  size cup size  hips  bra size bust   height         length  \\\n",
            "0       29.0     7        d  38.0      34.0   36  5ft 6in     just right   \n",
            "1       31.0    13        b  30.0      36.0  NaN  5ft 2in     just right   \n",
            "2       30.0     7        b   NaN      32.0  NaN  5ft 7in  slightly long   \n",
            "3        NaN    21     dd/e   NaN       NaN  NaN      NaN     just right   \n",
            "4        NaN    18        b   NaN      36.0  NaN  5ft 2in  slightly long   \n",
            "...      ...   ...      ...   ...       ...  ...      ...            ...   \n",
            "82785    NaN     8        b   NaN      36.0  NaN  5ft 8in     just right   \n",
            "82786    NaN    12    ddd/f   NaN      34.0  NaN  5ft 5in  slightly long   \n",
            "82787    NaN    12   dddd/g  36.0      32.0  NaN  5ft 4in     just right   \n",
            "82788    NaN    12      NaN   NaN       NaN  NaN  5ft 3in     just right   \n",
            "82789    NaN     4        d  39.0      32.0  NaN      6ft     just right   \n",
            "\n",
            "         fit  shoe size shoe width  lengthToNumber  fitToNumber  \\\n",
            "0      small        NaN        NaN               0            2   \n",
            "1      small        NaN        NaN               0            2   \n",
            "2      small        9.0        NaN               1            2   \n",
            "3        fit        NaN        NaN               0            0   \n",
            "4      small        NaN        NaN               1            2   \n",
            "...      ...        ...        ...             ...          ...   \n",
            "82785    fit        8.5    average               0            0   \n",
            "82786  small        NaN        NaN               1            2   \n",
            "82787    fit        NaN        NaN               0            0   \n",
            "82788    fit        NaN        NaN               0            0   \n",
            "82789    fit        NaN        NaN               0            0   \n",
            "\n",
            "       shoeWidthToNumber  shoesizeToNumber  heightToNum  cupsizeToNum  \n",
            "0                      3                15           23             4  \n",
            "1                      3                15           19             2  \n",
            "2                      3                 8           24             2  \n",
            "3                      3                15           41             5  \n",
            "4                      3                15           19             2  \n",
            "...                  ...               ...          ...           ...  \n",
            "82785                  0                 7           25             2  \n",
            "82786                  3                15           22             6  \n",
            "82787                  3                15           21             7  \n",
            "82788                  3                15           20            12  \n",
            "82789                  3                15           27             4  \n",
            "\n",
            "[82790 rows x 17 columns]\n"
          ]
        }
      ]
    },
    {
      "cell_type": "markdown",
      "source": [
        "SEPARATE SHOES, WOMEN AND MEN CLOTHES"
      ],
      "metadata": {
        "id": "BOPZ642eRlNu"
      }
    },
    {
      "cell_type": "code",
      "source": [
        "#separate shoes from clothes\n",
        "#clothesDf = df.dropna(subset=['shoe size'])\n",
        "clothesDf = df\n",
        "clothesDf = clothesDf.drop(['shoe size','shoe width','shoeWidthToNumber','length','fit','shoesizeToNumber'], axis=1)\n",
        "womenClothes = clothesDf\n",
        "\n",
        "#drop nan values for the datset \n",
        "womenClothes = womenClothes.dropna(subset=['bra size', 'waist', 'hips','bust','height'])\n",
        "\n",
        "womenClothes['bust'] = womenClothes['bust'].replace('37-39', np.nan)\n",
        "womenClothes['bust'] = womenClothes['bust'].astype(float)\n",
        "# Get the maximum value from 'bust' column\n",
        "max_value = womenClothes['bust'].max()\n",
        "# Replace remaining empty values with the maximum value\n",
        "womenClothes['bust'] = womenClothes['bust'].fillna(max_value)\n",
        "\n",
        "#get the shoes \n",
        "shoesDf = df\n",
        "shoesDf = shoesDf.drop(['length','fitToNumber','fit','shoe width','shoe size'], axis=1)\n",
        "shoesDf = shoesDf.dropna(subset=['waist', 'cup size','bra size','hips','bust'])\n",
        "\n",
        "print('shoes: ',shoesDf.head())\n",
        "print('--------------------------')\n",
        "print('clothes: ',womenClothes.head())"
      ],
      "metadata": {
        "colab": {
          "base_uri": "https://localhost:8080/"
        },
        "id": "vZfbprgSJZze",
        "outputId": "2e6e159e-dbab-4a29-833d-2a89b6b62326"
      },
      "execution_count": null,
      "outputs": [
        {
          "output_type": "stream",
          "name": "stdout",
          "text": [
            "shoes:        waist  size cup size  hips  bra size bust    height  lengthToNumber  \\\n",
            "0      29.0     7        d  38.0      34.0   36   5ft 6in               0   \n",
            "1069   30.0     8        c  40.0      36.0   36   5ft 7in               2   \n",
            "1748   27.0     4        c  38.0      32.0   34   5ft 4in               0   \n",
            "1750   27.0     8   dddd/g  34.0      34.0   38  4ft 11in               0   \n",
            "1751   33.0    12    ddd/f  36.0      38.0   38   5ft 3in               0   \n",
            "\n",
            "      shoeWidthToNumber  shoesizeToNumber  heightToNum  cupsizeToNum  \n",
            "0                     3                15           23             4  \n",
            "1069                  0                 7           24             3  \n",
            "1748                  3                15           21             3  \n",
            "1750                  2                 6            7             7  \n",
            "1751                  2                 5           20             6  \n",
            "--------------------------\n",
            "clothes:        waist  size cup size  hips  bra size  bust    height  lengthToNumber  \\\n",
            "0      29.0     7        d  38.0      34.0  36.0   5ft 6in               0   \n",
            "1069   30.0     8        c  40.0      36.0  36.0   5ft 7in               2   \n",
            "1748   27.0     4        c  38.0      32.0  34.0   5ft 4in               0   \n",
            "1750   27.0     8   dddd/g  34.0      34.0  38.0  4ft 11in               0   \n",
            "1751   33.0    12    ddd/f  36.0      38.0  38.0   5ft 3in               0   \n",
            "\n",
            "      fitToNumber  heightToNum  cupsizeToNum  \n",
            "0               2           23             4  \n",
            "1069            0           24             3  \n",
            "1748            0           21             3  \n",
            "1750            0            7             7  \n",
            "1751            0           20             6  \n"
          ]
        },
        {
          "output_type": "stream",
          "name": "stderr",
          "text": [
            "<ipython-input-14-cd86a874a4f7>:10: SettingWithCopyWarning: \n",
            "A value is trying to be set on a copy of a slice from a DataFrame.\n",
            "Try using .loc[row_indexer,col_indexer] = value instead\n",
            "\n",
            "See the caveats in the documentation: https://pandas.pydata.org/pandas-docs/stable/user_guide/indexing.html#returning-a-view-versus-a-copy\n",
            "  womenClothes['bust'] = womenClothes['bust'].replace('37-39', np.nan)\n",
            "<ipython-input-14-cd86a874a4f7>:11: SettingWithCopyWarning: \n",
            "A value is trying to be set on a copy of a slice from a DataFrame.\n",
            "Try using .loc[row_indexer,col_indexer] = value instead\n",
            "\n",
            "See the caveats in the documentation: https://pandas.pydata.org/pandas-docs/stable/user_guide/indexing.html#returning-a-view-versus-a-copy\n",
            "  womenClothes['bust'] = womenClothes['bust'].astype(float)\n",
            "<ipython-input-14-cd86a874a4f7>:15: SettingWithCopyWarning: \n",
            "A value is trying to be set on a copy of a slice from a DataFrame.\n",
            "Try using .loc[row_indexer,col_indexer] = value instead\n",
            "\n",
            "See the caveats in the documentation: https://pandas.pydata.org/pandas-docs/stable/user_guide/indexing.html#returning-a-view-versus-a-copy\n",
            "  womenClothes['bust'] = womenClothes['bust'].fillna(max_value)\n"
          ]
        }
      ]
    },
    {
      "cell_type": "code",
      "source": [
        "from sklearn.model_selection import train_test_split # Import train_test_split function\n",
        "from sklearn.ensemble import RandomForestRegressor\n",
        "from sklearn.tree import DecisionTreeRegressor\n",
        "from sklearn.ensemble import RandomForestClassifier\n",
        "from sklearn.tree import DecisionTreeClassifier\n",
        "from sklearn.naive_bayes import GaussianNB\n",
        "from sklearn.neural_network import MLPClassifier"
      ],
      "metadata": {
        "id": "NghsHjK4fV2i"
      },
      "execution_count": null,
      "outputs": []
    },
    {
      "cell_type": "code",
      "source": [
        "\n",
        "\n",
        "clothesInputs = ['waist', 'size', 'hips', 'bra size', 'bust', 'lengthToNumber', 'cupsizeToNum'\n",
        ",'heightToNum'\n",
        "]\n",
        "X = womenClothes[clothesInputs]\n",
        "Y = womenClothes['fitToNumber']\n",
        "\n",
        "X_train, X_test, y_train, y_test = train_test_split(X,Y,random_state=0)\n",
        "\n",
        "\n",
        "rand = RandomForestClassifier().fit(X_train, y_train)\n",
        "print('Accuracy of Random Forest on training set: {:.2f}'.format(rand.score(X_train, y_train)))\n",
        "print('Accuracy of Random Forest on test set: {:.2f}'.format(rand.score(X_test, y_test)))\n",
        "\n",
        "clf = DecisionTreeClassifier().fit(X_train, y_train)\n",
        "print('Accuracy of Decision Tree on training set: {:.2f}'.format(clf.score(X_train, y_train)))\n",
        "print('Accuracy of Decision Tree on test set: {:.2f}'.format(clf.score(X_test, y_test)))\n",
        "\n",
        "nb = GaussianNB().fit(X_train, y_train)\n",
        "print('Accuracy of Naive Bayes on training set: {:.2f}'.format(nb.score(X_train, y_train)))\n",
        "print('Accuracy of Naive Bayes on test set: {:.2f}'.format(nb.score(X_test, y_test)))\n",
        "\n",
        "\n",
        "from sklearn.preprocessing import StandardScaler\n",
        "scaler = StandardScaler()\n",
        "scaler.fit(X_train)\n",
        "\n",
        "X_train = scaler.transform(X_train)\n",
        "X_test = scaler.transform(X_test)\n",
        "\n",
        "from sklearn.neural_network import MLPClassifier\n",
        "mlp = MLPClassifier(hidden_layer_sizes=(10, 10, 10), max_iter=1000)\n",
        "mlp.fit(X_train, y_train.values.ravel())\n",
        "predictions = mlp.predict(X_test)\n",
        "\n",
        "from sklearn.metrics import classification_report, confusion_matrix\n",
        "print(confusion_matrix(y_test,predictions))\n",
        "print(classification_report(y_test,predictions))\n",
        "\n"
      ],
      "metadata": {
        "id": "f3ya24uFL8Ir",
        "colab": {
          "base_uri": "https://localhost:8080/"
        },
        "outputId": "30439b76-138d-44f2-c51b-9fa832798d6c"
      },
      "execution_count": null,
      "outputs": [
        {
          "output_type": "stream",
          "name": "stdout",
          "text": [
            "Accuracy of Random Forest on training set: 0.92\n",
            "Accuracy of Random Forest on test set: 0.56\n",
            "Accuracy of Decision Tree on training set: 0.92\n",
            "Accuracy of Decision Tree on test set: 0.48\n",
            "Accuracy of Naive Bayes on training set: 0.56\n",
            "Accuracy of Naive Bayes on test set: 0.52\n",
            "[[81 18  5]\n",
            " [23  6  2]\n",
            " [25  8  2]]\n",
            "              precision    recall  f1-score   support\n",
            "\n",
            "           0       0.63      0.78      0.70       104\n",
            "           1       0.19      0.19      0.19        31\n",
            "           2       0.22      0.06      0.09        35\n",
            "\n",
            "    accuracy                           0.52       170\n",
            "   macro avg       0.35      0.34      0.33       170\n",
            "weighted avg       0.46      0.52      0.48       170\n",
            "\n"
          ]
        },
        {
          "output_type": "stream",
          "name": "stderr",
          "text": [
            "/usr/local/lib/python3.10/dist-packages/sklearn/neural_network/_multilayer_perceptron.py:686: ConvergenceWarning: Stochastic Optimizer: Maximum iterations (1000) reached and the optimization hasn't converged yet.\n",
            "  warnings.warn(\n"
          ]
        }
      ]
    },
    {
      "cell_type": "code",
      "source": [
        "\n",
        "\n",
        "shoeInputs = ['waist', 'size', 'hips', 'bra size', 'lengthToNumber', 'shoeWidthToNumber', 'cupsizeToNum','heightToNum']\n",
        "X = shoesDf[shoeInputs]\n",
        "Y = shoesDf['shoesizeToNumber']\n",
        "\n",
        "X_train_s, X_test_s, y_train_s, y_test_s = train_test_split(X,Y,random_state=0)\n",
        "\n",
        "\n",
        "rand = RandomForestRegressor().fit(X_train_s, y_train_s)\n",
        "print('Accuracy of Random Forest on training set: {:.2f}'.format(rand.score(X_train_s, y_train_s)))\n",
        "print('Accuracy of Random Forest on test set: {:.2f}'.format(rand.score(X_test_s, y_test_s)))\n",
        "\n",
        "clf = DecisionTreeRegressor().fit(X_train_s, y_train_s)\n",
        "print('Accuracy of Decision Tree on training set: {:.2f}'.format(clf.score(X_train_s, y_train_s)))\n",
        "print('Accuracy of Decision Tree on test set: {:.2f}'.format(clf.score(X_test_s, y_test_s)))\n",
        "\n",
        "nb = GaussianNB().fit(X_train_s, y_train_s)\n",
        "print('Accuracy of Naive Bayes on training set: {:.2f}'.format(nb.score(X_train_s, y_train_s)))\n",
        "print('Accuracy of Naive Bayes on test set: {:.2f}'.format(nb.score(X_test_s, y_test_s)))\n",
        "\n",
        "\n",
        "from sklearn.preprocessing import StandardScaler\n",
        "scaler = StandardScaler()\n",
        "scaler.fit(X_train_s)\n",
        "\n",
        "X_train1 = scaler.transform(X_train_s)\n",
        "X_test1 = scaler.transform(X_test_s)\n",
        "\n",
        "from sklearn.neural_network import MLPClassifier\n",
        "mlp = MLPClassifier(hidden_layer_sizes=(10, 10, 10), max_iter=1000)\n",
        "mlp.fit(X_train1, y_train_s.values.ravel())\n",
        "predictions = mlp.predict(X_test1)\n",
        "\n",
        "from sklearn.metrics import classification_report, confusion_matrix\n",
        "print(confusion_matrix(y_test_s,predictions))\n",
        "print(classification_report(y_test_s,predictions))\n",
        "\n"
      ],
      "metadata": {
        "colab": {
          "base_uri": "https://localhost:8080/"
        },
        "id": "2lq1dCRTuKg8",
        "outputId": "c4259bf5-6067-4f93-8f8e-475c2f651e05"
      },
      "execution_count": null,
      "outputs": [
        {
          "output_type": "stream",
          "name": "stdout",
          "text": [
            "Accuracy of Random Forest on training set: 0.93\n",
            "Accuracy of Random Forest on test set: 0.60\n",
            "Accuracy of Decision Tree on training set: 1.00\n",
            "Accuracy of Decision Tree on test set: 0.30\n",
            "Accuracy of Naive Bayes on training set: 0.32\n",
            "Accuracy of Naive Bayes on test set: 0.26\n",
            "[[ 0  1  0  0  0  0  0  2  0  0  0  0  0  0  0]\n",
            " [ 0  2  0  0  0  0  0  0  0  0  0  0  0  0  1]\n",
            " [ 0  0  1  1  1  0  0  0  0  0  0  0  0  0  0]\n",
            " [ 0  0  0  6  3  0  1  0  0  0  0  0  0  0  0]\n",
            " [ 1  0  0  7  5  2  1  2  0  0  0  0  0  0  0]\n",
            " [ 0  0  0  3  3  4  2  1  1  0  0  0  0  0  2]\n",
            " [ 0  0  0  4  3  0 14  4  1  0  0  0  0  0  0]\n",
            " [ 0  0  0  2  2  2  6  7  4  0  3  0  0  0  0]\n",
            " [ 0  0  0  0  3  2  3  0  6  3  0  0  0  0  1]\n",
            " [ 0  0  0  2  1  1  3  0  2  2  0  0  0  0  0]\n",
            " [ 0  0  0  1  1  2  1  0  1  0  0  0  0  0  3]\n",
            " [ 0  0  0  0  0  0  0  1  0  0  0  0  1  0  0]\n",
            " [ 0  0  0  0  0  2  0  0  1  0  0  0  1  0  0]\n",
            " [ 0  0  0  0  0  0  0  2  0  0  0  0  0  0  0]\n",
            " [ 0  0  1  0  0  2  0  2  0  0  0  0  0  0  4]]\n",
            "              precision    recall  f1-score   support\n",
            "\n",
            "           0       0.00      0.00      0.00         3\n",
            "           1       0.67      0.67      0.67         3\n",
            "           2       0.50      0.33      0.40         3\n",
            "           3       0.23      0.60      0.33        10\n",
            "           4       0.23      0.28      0.25        18\n",
            "           5       0.24      0.25      0.24        16\n",
            "           6       0.45      0.54      0.49        26\n",
            "           7       0.33      0.27      0.30        26\n",
            "           8       0.38      0.33      0.35        18\n",
            "           9       0.40      0.18      0.25        11\n",
            "          10       0.00      0.00      0.00         9\n",
            "          11       0.00      0.00      0.00         2\n",
            "          12       0.50      0.25      0.33         4\n",
            "          13       0.00      0.00      0.00         2\n",
            "          15       0.36      0.44      0.40         9\n",
            "\n",
            "    accuracy                           0.33       160\n",
            "   macro avg       0.29      0.28      0.27       160\n",
            "weighted avg       0.32      0.33      0.31       160\n",
            "\n"
          ]
        },
        {
          "output_type": "stream",
          "name": "stderr",
          "text": [
            "/usr/local/lib/python3.10/dist-packages/sklearn/neural_network/_multilayer_perceptron.py:686: ConvergenceWarning: Stochastic Optimizer: Maximum iterations (1000) reached and the optimization hasn't converged yet.\n",
            "  warnings.warn(\n",
            "/usr/local/lib/python3.10/dist-packages/sklearn/metrics/_classification.py:1344: UndefinedMetricWarning: Precision and F-score are ill-defined and being set to 0.0 in labels with no predicted samples. Use `zero_division` parameter to control this behavior.\n",
            "  _warn_prf(average, modifier, msg_start, len(result))\n",
            "/usr/local/lib/python3.10/dist-packages/sklearn/metrics/_classification.py:1344: UndefinedMetricWarning: Precision and F-score are ill-defined and being set to 0.0 in labels with no predicted samples. Use `zero_division` parameter to control this behavior.\n",
            "  _warn_prf(average, modifier, msg_start, len(result))\n",
            "/usr/local/lib/python3.10/dist-packages/sklearn/metrics/_classification.py:1344: UndefinedMetricWarning: Precision and F-score are ill-defined and being set to 0.0 in labels with no predicted samples. Use `zero_division` parameter to control this behavior.\n",
            "  _warn_prf(average, modifier, msg_start, len(result))\n"
          ]
        }
      ]
    }
  ]
}